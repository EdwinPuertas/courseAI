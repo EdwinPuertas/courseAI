{
 "cells": [
  {
   "cell_type": "code",
   "execution_count": 1,
   "id": "05c75493-0439-4c87-9a6c-15fea38632ec",
   "metadata": {},
   "outputs": [],
   "source": [
    "from sympy import symbols\n",
    "from sympy.logic.boolalg import Implies, And, Or, Not"
   ]
  },
  {
   "cell_type": "code",
   "execution_count": 11,
   "id": "64d49d0b-56d2-43cb-8434-25553e5e1023",
   "metadata": {},
   "outputs": [],
   "source": [
    "# Definir personajes\n",
    "Aragorn = symbols('Aragorn')\n",
    "Boromir = symbols('Boromir')\n",
    "Legolas = symbols('Legolas')\n",
    "Gandalf = symbols('Gandalf')\n",
    "Sauron = symbols('Sauron')\n",
    "Gimli = symbols('Gimli')"
   ]
  },
  {
   "cell_type": "code",
   "execution_count": 13,
   "id": "c005a882-e2af-4b84-b19c-ab8cb588c364",
   "metadata": {},
   "outputs": [],
   "source": [
    "# Definir predicados\n",
    "EsHumano = symbols('EsHumano')\n",
    "EsElfo = symbols('EsElfo')\n",
    "EsMago = symbols('EsMago')\n",
    "EsAliado = symbols('EsAliado')\n",
    "EsEnemigo = symbols('EsEnemigo')"
   ]
  },
  {
   "cell_type": "code",
   "execution_count": 15,
   "id": "c8a963ba-0672-4910-9122-f9de53e46fbc",
   "metadata": {},
   "outputs": [],
   "source": [
    "# Hechos\n",
    "hecho1 = And(EsHumano.subs(EsHumano, Aragorn), EsHumano.subs(EsHumano, Boromir))\n",
    "hecho2 = EsElfo.subs(EsElfo, Legolas)\n",
    "hecho3 = EsMago.subs(EsMago, Gandalf)"
   ]
  },
  {
   "cell_type": "code",
   "execution_count": 17,
   "id": "e906a977-b785-4f9a-99d1-f1350df76981",
   "metadata": {},
   "outputs": [],
   "source": [
    "# Alianzas\n",
    "alianza1 = EsAliado.subs(EsAliado, (Aragorn, Legolas))\n",
    "alianza2 = EsAliado.subs(EsAliado, (Legolas, Gimli))"
   ]
  },
  {
   "cell_type": "code",
   "execution_count": 19,
   "id": "318550e6-f126-40fc-9ee6-87b65ac97bcb",
   "metadata": {},
   "outputs": [],
   "source": [
    "# Enemigos\n",
    "enemigo1 = EsEnemigo.subs(EsEnemigo, (Gandalf, Sauron))"
   ]
  },
  {
   "cell_type": "code",
   "execution_count": 23,
   "id": "560c4ff9-4dfe-4532-ba8f-d36ed44303ad",
   "metadata": {},
   "outputs": [
    {
     "name": "stdout",
     "output_type": "stream",
     "text": [
      "¿Aragorn es humano? {Aragorn: True, Boromir: True}\n",
      "¿Legolas es elfo? {Legolas: True}\n",
      "¿Gandalf es enemigo de Sauron? {(Gandalf, Sauron): True}\n",
      "¿Aragorn es aliado de Legolas? {(Aragorn, Legolas): True}\n",
      "¿Legolas es aliado de Gimli? {(Legolas, Gimli): True}\n"
     ]
    }
   ],
   "source": [
    "# Inferencias\n",
    "from sympy.logic.inference import satisfiable\n",
    "\n",
    "print(\"¿Aragorn es humano?\", satisfiable(hecho1.subs(EsHumano, Aragorn)))\n",
    "print(\"¿Legolas es elfo?\", satisfiable(hecho2))\n",
    "print(\"¿Gandalf es enemigo de Sauron?\", satisfiable(enemigo1))\n",
    "print(\"¿Aragorn es aliado de Legolas?\", satisfiable(alianza1))\n",
    "print(\"¿Legolas es aliado de Gimli?\", satisfiable(alianza2))"
   ]
  },
  {
   "cell_type": "code",
   "execution_count": null,
   "id": "0fb8c295-4dfc-44c3-8a7b-f85cb2384122",
   "metadata": {},
   "outputs": [],
   "source": []
  }
 ],
 "metadata": {
  "kernelspec": {
   "display_name": "Python 3 (ipykernel)",
   "language": "python",
   "name": "python3"
  },
  "language_info": {
   "codemirror_mode": {
    "name": "ipython",
    "version": 3
   },
   "file_extension": ".py",
   "mimetype": "text/x-python",
   "name": "python",
   "nbconvert_exporter": "python",
   "pygments_lexer": "ipython3",
   "version": "3.12.3"
  }
 },
 "nbformat": 4,
 "nbformat_minor": 5
}
