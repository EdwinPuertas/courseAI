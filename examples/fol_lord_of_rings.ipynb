{
 "cells": [
  {
   "cell_type": "code",
   "execution_count": 1,
   "id": "3efbaf5d-89c9-4c56-b405-54e4253f602b",
   "metadata": {},
   "outputs": [],
   "source": [
    "from pyDatalog import pyDatalog\n",
    "\n",
    "pyDatalog.clear()"
   ]
  },
  {
   "cell_type": "code",
   "execution_count": 3,
   "id": "bcb8c5bc-e33f-41b0-b4ec-8368e56bd77d",
   "metadata": {},
   "outputs": [],
   "source": [
    "# Definir relaciones\n",
    "pyDatalog.create_terms('es_humano, es_elfo, es_mago, es_aliado, enemigo_de, X, Y')"
   ]
  },
  {
   "cell_type": "code",
   "execution_count": 5,
   "id": "a2f67bf6-e6a6-48c4-9457-dc148edacb21",
   "metadata": {},
   "outputs": [],
   "source": [
    "# Hechos\n",
    "+ es_humano('Aragorn')\n",
    "+ es_humano('Boromir')\n",
    "+ es_elfo('Legolas')\n",
    "+ es_mago('Gandalf')"
   ]
  },
  {
   "cell_type": "code",
   "execution_count": 7,
   "id": "1bd1acc9-6c0f-416a-9998-80c6af29841b",
   "metadata": {},
   "outputs": [],
   "source": [
    "# Relaciones de amistad/enemistad\n",
    "+ es_aliado('Aragorn', 'Legolas')\n",
    "+ es_aliado('Legolas', 'Gimli')\n",
    "+ enemigo_de('Gandalf', 'Sauron')"
   ]
  },
  {
   "cell_type": "code",
   "execution_count": 9,
   "id": "912f975a-c784-42c0-822f-aed06f29e45a",
   "metadata": {},
   "outputs": [
    {
     "data": {
      "text/plain": [
       "es_aliado(X,Y) <= es_aliado(Y,X)"
      ]
     },
     "execution_count": 9,
     "metadata": {},
     "output_type": "execute_result"
    }
   ],
   "source": [
    "# Reglas de inferencia\n",
    "es_aliado(X, Y) <= es_aliado(Y, X)  # La alianza es mutua"
   ]
  },
  {
   "cell_type": "code",
   "execution_count": 11,
   "id": "4da14604-17e8-43e1-a2f7-833c850a8367",
   "metadata": {},
   "outputs": [
    {
     "name": "stdout",
     "output_type": "stream",
     "text": [
      "X      \n",
      "-------\n",
      "Boromir\n",
      "Aragorn\n",
      "X      \n",
      "-------\n",
      "Gimli  \n",
      "Aragorn\n",
      "X       | Y     \n",
      "--------|-------\n",
      "Gandalf | Sauron\n"
     ]
    }
   ],
   "source": [
    "# Consultas\n",
    "print(es_humano(X))  # ¿Quiénes son humanos?\n",
    "print(es_aliado(X, 'Legolas'))  # ¿Quiénes son aliados de Legolas?\n",
    "print(enemigo_de(X, Y))  # ¿Quiénes tienen enemigos?"
   ]
  },
  {
   "cell_type": "code",
   "execution_count": null,
   "id": "58dad904-8b3e-4726-aad3-f3568294fbf9",
   "metadata": {},
   "outputs": [],
   "source": []
  }
 ],
 "metadata": {
  "kernelspec": {
   "display_name": "Python 3 (ipykernel)",
   "language": "python",
   "name": "python3"
  },
  "language_info": {
   "codemirror_mode": {
    "name": "ipython",
    "version": 3
   },
   "file_extension": ".py",
   "mimetype": "text/x-python",
   "name": "python",
   "nbconvert_exporter": "python",
   "pygments_lexer": "ipython3",
   "version": "3.12.3"
  }
 },
 "nbformat": 4,
 "nbformat_minor": 5
}
