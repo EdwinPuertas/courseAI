{
 "cells": [
  {
   "cell_type": "code",
   "execution_count": 3,
   "id": "initial_id",
   "metadata": {
    "ExecuteTime": {
     "end_time": "2025-02-26T19:42:06.560223Z",
     "start_time": "2025-02-26T19:42:05.139759Z"
    }
   },
   "outputs": [],
   "source": [
    "from pyDatalog import pyDatalog\n",
    "\n",
    "pyDatalog.clear()"
   ]
  },
  {
   "cell_type": "code",
   "execution_count": 5,
   "id": "ffbfae2d255309e3",
   "metadata": {},
   "outputs": [],
   "source": [
    "# Definir relaciones\n",
    "pyDatalog.create_terms('es_superheroe, tiene_poderes, pertenece_a, X, Y')"
   ]
  },
  {
   "cell_type": "code",
   "execution_count": 7,
   "id": "35d445a1-7af5-4b8f-b05d-9f36bc82822e",
   "metadata": {},
   "outputs": [],
   "source": [
    "# Hechos: Personajes y sus categorías\n",
    "+ es_superheroe('Spider-Man')\n",
    "+ es_superheroe('Iron Man')\n",
    "+ es_superheroe('Doctor Strange')"
   ]
  },
  {
   "cell_type": "code",
   "execution_count": 9,
   "id": "a57a8a4a-3bdd-411c-ba22-a9ab1206e207",
   "metadata": {},
   "outputs": [
    {
     "data": {
      "text/plain": [
       "tiene_poderes(X) <= es_superheroe(X)&!=(X,'Iron Ma"
      ]
     },
     "execution_count": 9,
     "metadata": {},
     "output_type": "execute_result"
    }
   ],
   "source": [
    "# Reglas: Si alguien es superhéroe, tiene poderes (excepto Iron Man, quien usa tecnología)\n",
    "tiene_poderes(X) <= es_superheroe(X) & (X != 'Iron Man')"
   ]
  },
  {
   "cell_type": "code",
   "execution_count": 11,
   "id": "881735e7-a348-4d46-8cbf-60ea64fd0f62",
   "metadata": {},
   "outputs": [],
   "source": [
    "# Pertenencia a equipos\n",
    "+ pertenece_a('Spider-Man', 'Avengers')\n",
    "+ pertenece_a('Doctor Strange', 'Illuminati')"
   ]
  },
  {
   "cell_type": "code",
   "execution_count": 13,
   "id": "3e778e5a-42fb-4bf5-9f1d-b42318bd0791",
   "metadata": {},
   "outputs": [
    {
     "name": "stdout",
     "output_type": "stream",
     "text": [
      "X             \n",
      "--------------\n",
      "Doctor Strange\n",
      "Iron Man      \n",
      "Spider-Man    \n",
      "X             \n",
      "--------------\n",
      "Doctor Strange\n",
      "Spider-Man    \n",
      "X         \n",
      "----------\n",
      "Spider-Man\n"
     ]
    }
   ],
   "source": [
    "# Consultas\n",
    "print(es_superheroe(X))  # ¿Quiénes son superhéroes?\n",
    "print(tiene_poderes(X))  # ¿Quién tiene poderes?\n",
    "print(pertenece_a(X, 'Avengers'))  # ¿Quién pertenece a los Avengers?"
   ]
  },
  {
   "cell_type": "code",
   "execution_count": null,
   "id": "0c74a410-9e08-4eba-a101-d4cf6a791d89",
   "metadata": {},
   "outputs": [],
   "source": []
  }
 ],
 "metadata": {
  "kernelspec": {
   "display_name": "Python 3 (ipykernel)",
   "language": "python",
   "name": "python3"
  },
  "language_info": {
   "codemirror_mode": {
    "name": "ipython",
    "version": 3
   },
   "file_extension": ".py",
   "mimetype": "text/x-python",
   "name": "python",
   "nbconvert_exporter": "python",
   "pygments_lexer": "ipython3",
   "version": "3.12.3"
  }
 },
 "nbformat": 4,
 "nbformat_minor": 5
}
